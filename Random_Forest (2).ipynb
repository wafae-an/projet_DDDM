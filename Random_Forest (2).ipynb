{
  "cells": [
    {
      "cell_type": "code",
      "execution_count": null,
      "metadata": {
        "id": "Nt73RbGFfwGq"
      },
      "outputs": [],
      "source": [
        "# Importation des bibliothèques nécessaires\n",
        "import pandas as pd\n",
        "import numpy as np\n",
        "import matplotlib.pyplot as plt\n",
        "import seaborn as sns\n",
        "\n",
        "# Modèles et évaluation\n",
        "from sklearn.model_selection import train_test_split\n",
        "from sklearn.preprocessing import LabelEncoder, label_binarize\n",
        "from sklearn.feature_selection import VarianceThreshold\n",
        "from sklearn.ensemble import RandomForestClassifier\n",
        "from sklearn.metrics import (\n",
        "    classification_report, accuracy_score, confusion_matrix,\n",
        "    f1_score, recall_score, roc_auc_score, roc_curve\n",
        ")\n",
        "\n",
        "# Gestion du déséquilibre des classes\n",
        "from imblearn.under_sampling import RandomUnderSampler\n",
        "from imblearn.over_sampling import SMOTE\n",
        "\n",
        "# Pour sauvegarder le modèle\n",
        "import joblib\n"
      ]
    },
    {
      "cell_type": "code",
      "execution_count": null,
      "metadata": {
        "colab": {
          "base_uri": "https://localhost:8080/"
        },
        "id": "LX8OSX1sq6HW",
        "outputId": "d4457e21-e8c3-4576-c3cb-26d0ba421774"
      },
      "outputs": [
        {
          "output_type": "stream",
          "name": "stdout",
          "text": [
            "Mounted at /content/drive\n"
          ]
        }
      ],
      "source": [
        "# Accès à Google Drive (pour Google Colab)\n",
        "from google.colab import drive\n",
        "drive.mount('/content/drive')\n"
      ]
    },
    {
      "cell_type": "code",
      "execution_count": null,
      "metadata": {
        "id": "zAmzns40hOWP"
      },
      "outputs": [],
      "source": [
        "# Chargement des fichiers CSV depuis Google Drive\n",
        "folder_path = '/content/drive/MyDrive/data/'\n",
        "\n",
        "files = [\n",
        "    'Friday-WorkingHours-Afternoon-DDos.pcap_ISCX.csv',\n",
        "    'Friday-WorkingHours-Afternoon-PortScan.pcap_ISCX.csv',\n",
        "    'Friday-WorkingHours-Morning.pcap_ISCX.csv',\n",
        "    'Monday-WorkingHours.pcap_ISCX.csv',\n",
        "    'Thursday-WorkingHours-Afternoon-Infilteration.pcap_ISCX.csv',\n",
        "    'Thursday-WorkingHours-Morning-WebAttacks.pcap_ISCX.csv',\n",
        "    'Tuesday-WorkingHours.pcap_ISCX.csv',\n",
        "    'Wednesday-workingHours.pcap_ISCX.csv'\n",
        "]\n"
      ]
    },
    {
      "cell_type": "code",
      "execution_count": null,
      "metadata": {
        "colab": {
          "base_uri": "https://localhost:8080/"
        },
        "id": "TCJH6RAdCA8d",
        "outputId": "58de6ac3-adb6-4e20-fcb9-60f27d53880e"
      },
      "outputs": [
        {
          "output_type": "stream",
          "name": "stdout",
          "text": [
            "Shape: (2830743, 79)\n"
          ]
        }
      ],
      "source": [
        "# Fusion des datasets\n",
        "dfs = [pd.read_csv(folder_path + file) for file in files]\n",
        "df = pd.concat(dfs, ignore_index=True)\n",
        "print(\"Shape:\", df.shape)\n"
      ]
    },
    {
      "cell_type": "code",
      "execution_count": null,
      "metadata": {
        "id": "fPYkguoehTqO"
      },
      "outputs": [],
      "source": [
        "#  Nettoyage : suppression des doublons\n",
        "df.drop_duplicates(inplace=True)\n",
        "# Remplacement des valeurs infinies par NaN\n",
        "df.replace([np.inf, -np.inf], np.nan, inplace=True)"
      ]
    },
    {
      "cell_type": "code",
      "execution_count": null,
      "metadata": {
        "id": "72gMJ9gchV9K"
      },
      "outputs": [],
      "source": [
        "# Remplissage des valeurs manquantes pour les colonnes numériques avec la moyenne\n",
        "numeric_columns = df.select_dtypes(include=[np.number]).columns\n",
        "df[numeric_columns] = df[numeric_columns].fillna(df[numeric_columns].mean())\n",
        "\n",
        "# Pour les colonnes non numériques : remplissage avec la valeur la plus fréquente (mode)\n",
        "non_numeric_columns = df.select_dtypes(exclude=[np.number]).columns\n",
        "for col in non_numeric_columns:\n",
        "    df[col] = df[col].fillna(df[col].mode()[0])\n",
        "# Suppression finale des lignes encore incomplètes\n",
        "df.dropna(inplace=True)\n"
      ]
    },
    {
      "cell_type": "code",
      "execution_count": null,
      "metadata": {
        "colab": {
          "base_uri": "https://localhost:8080/"
        },
        "id": "LLCByHQ3hazX",
        "outputId": "53b32366-9660-43ab-b1df-08a66495af19"
      },
      "outputs": [
        {
          "output_type": "stream",
          "name": "stdout",
          "text": [
            "Colonnes supprimées : [' Destination Port', ' Bwd PSH Flags', ' Fwd URG Flags', ' Bwd URG Flags', ' Fwd Avg Packets/Bulk', ' Fwd Avg Bulk Rate', ' Bwd Avg Bytes/Bulk', ' Bwd Avg Packets/Bulk', ' Subflow Fwd Bytes', ' Subflow Bwd Packets', ' Subflow Bwd Bytes', ' Idle Std', ' Idle Max', ' Idle Min']\n"
          ]
        }
      ],
      "source": [
        "# Suppression de certaines colonnes jugées peu informatives\n",
        "columns_to_drop = [\n",
        "    ' Destination Port',\n",
        "    ' Fwd PSH Flags', ' Bwd PSH Flags',\n",
        "    ' Fwd URG Flags', ' Bwd URG Flags',\n",
        "    ' Fwd Avg Packets/Bulk', ' Fwd Avg Bulk Rate',\n",
        "    ' Bwd Avg Bytes/Bulk', ' Bwd Avg Packets/Bulk',\n",
        "    ' Subflow Fwd Bytes', ' Subflow Bwd Packets', ' Subflow Bwd Bytes',\n",
        "    ' Idle Std', ' Idle Max', ' Idle Min'\n",
        "]\n",
        "\n",
        "columns_to_drop_filtered = [col for col in columns_to_drop if col in df.columns]\n",
        "df.drop(columns=columns_to_drop_filtered, inplace=True)\n",
        "print(f\"Colonnes supprimées : {columns_to_drop_filtered}\")\n"
      ]
    },
    {
      "cell_type": "code",
      "execution_count": null,
      "metadata": {
        "colab": {
          "base_uri": "https://localhost:8080/"
        },
        "id": "fNKlrBHqmAPt",
        "outputId": "19ae2b85-75d4-44eb-86c9-d73fcd70548a"
      },
      "outputs": [
        {
          "output_type": "stream",
          "name": "stdout",
          "text": [
            "Mapping des classes : {'BENIGN': np.int64(0), 'Bot': np.int64(1), 'DDoS': np.int64(2), 'DoS GoldenEye': np.int64(3), 'DoS Hulk': np.int64(4), 'DoS Slowhttptest': np.int64(5), 'DoS slowloris': np.int64(6), 'FTP-Patator': np.int64(7), 'Heartbleed': np.int64(8), 'Infiltration': np.int64(9), 'PortScan': np.int64(10), 'SSH-Patator': np.int64(11), 'Web Attack � Brute Force': np.int64(12), 'Web Attack � Sql Injection': np.int64(13), 'Web Attack � XSS': np.int64(14)}\n"
          ]
        }
      ],
      "source": [
        "# Encodage de la variable cible ' Label'\n",
        "le = LabelEncoder()\n",
        "df[' Label'] = le.fit_transform(df[' Label'])\n",
        "print(\"Mapping des classes :\", dict(zip(le.classes_, le.transform(le.classes_))))"
      ]
    },
    {
      "cell_type": "code",
      "execution_count": null,
      "metadata": {
        "id": "42Rag_ZDhcf-"
      },
      "outputs": [],
      "source": [
        "# Séparation des features (X) et de la cible (y)\n",
        "X = df.drop(' Label', axis=1)  # Variables indépendantes\n",
        "y = df[' Label']  # Variable cible"
      ]
    },
    {
      "cell_type": "code",
      "execution_count": null,
      "metadata": {
        "id": "IIYiWhjHhevn"
      },
      "outputs": [],
      "source": [
        "# Sélection de features avec faible variance\n",
        "selector = VarianceThreshold(threshold=0.01)\n",
        "X = selector.fit_transform(X)\n"
      ]
    },
    {
      "cell_type": "code",
      "execution_count": null,
      "metadata": {
        "id": "Uqj4UDoGhkmt"
      },
      "outputs": [],
      "source": [
        "# Séparation en données d'entraînement et de test\n",
        "X_train, X_test, y_train, y_test = train_test_split(\n",
        "    X, y, test_size=0.2, stratify=y, random_state=42\n",
        ")"
      ]
    },
    {
      "cell_type": "code",
      "execution_count": null,
      "metadata": {
        "id": "f-N02D4chlvr"
      },
      "outputs": [],
      "source": [
        "# Undersampling des classes majoritaires (ex: classe 0 → 30 000)\n",
        "rus = RandomUnderSampler(sampling_strategy={0: 30000}, random_state=42)\n",
        "X_under, y_under = rus.fit_resample(X_train, y_train)\n",
        "# Oversampling (SMOTE) des classes minoritaires\n",
        "sm = SMOTE(random_state=42)\n",
        "X_final, y_final = sm.fit_resample(X_under, y_under)"
      ]
    },
    {
      "cell_type": "code",
      "execution_count": null,
      "metadata": {
        "id": "C-vjW-BnVpp3"
      },
      "outputs": [],
      "source": [
        "class_weights = {\n",
        "    0: 1,\n",
        "    1: 10,\n",
        "    2: 1,\n",
        "    3: 1,\n",
        "    4: 1,\n",
        "    5: 1,\n",
        "    6: 1,\n",
        "    7: 1,\n",
        "    8: 1,\n",
        "    9: 1,\n",
        "    10: 1,\n",
        "    11: 1,\n",
        "    12: 6,\n",
        "    13: 4,\n",
        "    14: 6\n",
        "}"
      ]
    },
    {
      "cell_type": "code",
      "execution_count": null,
      "metadata": {
        "id": "eFwz8Lt4hn4r"
      },
      "outputs": [],
      "source": [
        "#  Initialisation du modèle Random Forest\n",
        "model_rf = RandomForestClassifier(\n",
        "    n_estimators=100,\n",
        "    max_depth=None,\n",
        "    min_samples_split=2,\n",
        "    min_samples_leaf=1,\n",
        "    random_state=42,\n",
        "    n_jobs=-1,\n",
        "    class_weight=class_weights  # Important pour gérer les classes déséquilibrées\n",
        ")\n"
      ]
    },
    {
      "cell_type": "code",
      "execution_count": null,
      "metadata": {
        "id": "6hfqTAunXTN_",
        "colab": {
          "base_uri": "https://localhost:8080/"
        },
        "outputId": "33d32e57-d143-497f-9b07-6ef39ca87155"
      },
      "outputs": [
        {
          "output_type": "stream",
          "name": "stdout",
          "text": [
            "Temps d'entraînement (s) : 977.6534504890442\n"
          ]
        }
      ],
      "source": [
        "# Mesure du temps d'entraînement\n",
        "import time\n",
        "start_train = time.time()\n",
        "model_rf.fit(X_final,y_final)\n",
        "end_train = time.time()\n",
        "training_time = end_train - start_train\n",
        "print(\"Temps d'entraînement (s) :\", training_time)"
      ]
    },
    {
      "cell_type": "code",
      "execution_count": null,
      "metadata": {
        "id": "n5rsmXwcRUWe",
        "colab": {
          "base_uri": "https://localhost:8080/"
        },
        "outputId": "9a5485b3-6d4d-41b0-c1e1-96b7b9a90948"
      },
      "outputs": [
        {
          "output_type": "stream",
          "name": "stdout",
          "text": [
            "Temps de prédiction (s) : 5.569016456604004\n"
          ]
        }
      ],
      "source": [
        "# Mesure du temps de prédiction\n",
        "start_pred = time.time()\n",
        "y_pred = model_rf.predict(X_test)\n",
        "end_pred = time.time()\n",
        "prediction_time = end_pred - start_pred\n",
        "print(\"Temps de prédiction (s) :\", prediction_time)"
      ]
    },
    {
      "cell_type": "code",
      "execution_count": null,
      "metadata": {
        "colab": {
          "base_uri": "https://localhost:8080/"
        },
        "id": "AIlX91AUnHlQ",
        "outputId": "abb85264-4373-488e-f388-ea7f2bc085c7"
      },
      "outputs": [
        {
          "output_type": "stream",
          "name": "stdout",
          "text": [
            "Accuracy: 0.9936607112769167\n"
          ]
        }
      ],
      "source": [
        "# Accuracy\n",
        "accuracy = accuracy_score(y_test, y_pred)\n",
        "print(\"Accuracy:\", accuracy)\n"
      ]
    },
    {
      "cell_type": "code",
      "execution_count": null,
      "metadata": {
        "colab": {
          "base_uri": "https://localhost:8080/"
        },
        "id": "2Li5HC7KvS68",
        "outputId": "dd80a608-adf1-4801-a446-fe312963f409"
      },
      "outputs": [
        {
          "output_type": "stream",
          "name": "stdout",
          "text": [
            "F1 Score (macro): 0.8443309782093791\n",
            "F1 Score (weighted): 0.994626818078251\n"
          ]
        }
      ],
      "source": [
        "# F1 Scores\n",
        "f1_macro = f1_score(y_test, y_pred, average='macro')\n",
        "f1_weighted = f1_score(y_test, y_pred, average='weighted')\n",
        "print(\"F1 Score (macro):\", f1_macro)\n",
        "print(\"F1 Score (weighted):\", f1_weighted)"
      ]
    },
    {
      "cell_type": "code",
      "execution_count": null,
      "metadata": {
        "colab": {
          "base_uri": "https://localhost:8080/"
        },
        "id": "IeFEYqBRvUdt",
        "outputId": "2dd18de0-6dbc-43ba-8f02-ea0476a40f25"
      },
      "outputs": [
        {
          "output_type": "stream",
          "name": "stdout",
          "text": [
            "Recall (macro): 0.9184675963187949\n",
            "Recall (weighted): 0.9936607112769167\n"
          ]
        }
      ],
      "source": [
        "# Recall (sensibilité)\n",
        "recall_macro = recall_score(y_test, y_pred, average='macro')\n",
        "recall_weighted = recall_score(y_test, y_pred, average='weighted')\n",
        "print(\"Recall (macro):\", recall_macro)\n",
        "print(\"Recall (weighted):\", recall_weighted)\n"
      ]
    },
    {
      "cell_type": "code",
      "execution_count": null,
      "metadata": {
        "colab": {
          "base_uri": "https://localhost:8080/"
        },
        "id": "9PXCVlpkvXVk",
        "outputId": "87617e93-4a14-405a-ec00-27e94cdaeebc"
      },
      "outputs": [
        {
          "output_type": "stream",
          "name": "stdout",
          "text": [
            "\n",
            "📋 Classification Report:\n",
            "               precision    recall  f1-score   support\n",
            "\n",
            "           0       1.00      0.99      1.00    419297\n",
            "           1       0.24      0.97      0.39       391\n",
            "           2       1.00      1.00      1.00     25603\n",
            "           3       0.97      1.00      0.98      2057\n",
            "           4       0.98      1.00      0.99     34570\n",
            "           5       0.89      0.99      0.94      1046\n",
            "           6       0.97      0.99      0.98      1077\n",
            "           7       0.98      1.00      0.99      1187\n",
            "           8       1.00      1.00      1.00         2\n",
            "           9       0.83      0.71      0.77         7\n",
            "          10       0.99      1.00      0.99     18164\n",
            "          11       0.99      0.99      0.99       644\n",
            "          12       0.35      0.65      0.46       294\n",
            "          13       0.80      1.00      0.89         4\n",
            "          14       0.23      0.47      0.30       130\n",
            "\n",
            "    accuracy                           0.99    504473\n",
            "   macro avg       0.81      0.92      0.84    504473\n",
            "weighted avg       1.00      0.99      0.99    504473\n",
            "\n"
          ]
        }
      ],
      "source": [
        "#  Rapport de classification complet\n",
        "print(\"\\n📋 Classification Report:\\n\", classification_report(y_test, y_pred))"
      ]
    },
    {
      "cell_type": "code",
      "execution_count": null,
      "metadata": {
        "colab": {
          "base_uri": "https://localhost:8080/",
          "height": 443
        },
        "id": "rfqs47IsvZRe",
        "outputId": "2e630f3e-30ce-41ae-e545-c691a82dc7bc"
      },
      "outputs": [
        {
          "output_type": "display_data",
          "data": {
            "text/plain": [
              "<Figure size 1000x600 with 2 Axes>"
            ],
            "image/png": "[encoded data removed]"
          },
          "metadata": {}
        }
      ],
      "source": [
        "# Matrice de confusion\n",
        "cm = confusion_matrix(y_test, y_pred)\n",
        "plt.figure(figsize=(10, 6))\n",
        "sns.heatmap(cm, annot=True, fmt='d', cmap='Blues')\n",
        "plt.title(\"Matrice de confusion\")\n",
        "plt.xlabel(\"Prédit\")\n",
        "plt.ylabel(\"Réel\")\n",
        "plt.show()"
      ]
    },
    {
      "cell_type": "code",
      "execution_count": null,
      "metadata": {
        "colab": {
          "base_uri": "https://localhost:8080/",
          "height": 419
        },
        "id": "x_oBwEZHvau2",
        "outputId": "f476912c-8bc9-4403-b181-fee4332e9a92"
      },
      "outputs": [
        {
          "output_type": "display_data",
          "data": {
            "text/plain": [
              "<Figure size 1000x600 with 1 Axes>"
            ],
            "image/png": "[encoded data removed]"
          },
          "metadata": {}
        }
      ],
      "source": [
        "# Visualisation de l’importance des 10 variables les plus importantes\n",
        "importances = model_rf.feature_importances_\n",
        "indices = np.argsort(importances)[::-1]\n",
        "plt.figure(figsize=(10, 6))\n",
        "plt.title(\"Importance des variables\")\n",
        "plt.bar(range(10), importances[indices[:10]], align='center')\n",
        "plt.xticks(range(10), indices[:10])\n",
        "plt.xlabel(\"Index des variables\")\n",
        "plt.ylabel(\"Importance\")\n",
        "plt.show()\n"
      ]
    },
    {
      "cell_type": "code",
      "execution_count": null,
      "metadata": {
        "colab": {
          "base_uri": "https://localhost:8080/"
        },
        "id": "POIJE0ZVvdRO",
        "outputId": "5cf33a37-6234-4121-f74b-21de5c89576c"
      },
      "outputs": [
        {
          "output_type": "stream",
          "name": "stdout",
          "text": [
            "AUC-ROC Score (multi-class): 0.9909818250174596\n"
          ]
        }
      ],
      "source": [
        "# AUC-ROC Score (multi-class)\n",
        "y_test_bin = label_binarize(y_test, classes=np.unique(y))\n",
        "y_pred_proba = model_rf.predict_proba(X_test)\n",
        "auc_score = roc_auc_score(y_test_bin, y_pred_proba, multi_class='ovr')\n",
        "print(\"AUC-ROC Score (multi-class):\", auc_score)"
      ]
    },
    {
      "cell_type": "code",
      "execution_count": null,
      "metadata": {
        "colab": {
          "base_uri": "https://localhost:8080/"
        },
        "id": "6OCMPEe-wTud",
        "outputId": "1f96b6d1-b595-4989-d644-d8f52891d5ab"
      },
      "outputs": [
        {
          "name": "stdout",
          "output_type": "stream",
          "text": [
            "✅ Modèle sauvegardé sous le nom : random_forest_model.pkl\n"
          ]
        }
      ],
      "source": [
        "# Sauvegarder le modèle\n",
        "joblib.dump(model_rf, 'random_forest_model.pkl')\n",
        "print(\" Modèle sauvegardé sous le nom : random_forest_model.pkl\")"
      ]
    }
  ],
  "metadata": {
    "colab": {
      "provenance": []
    },
    "kernelspec": {
      "display_name": "Python 3",
      "name": "python3"
    },
    "language_info": {
      "name": "python"
    }
  },
  "nbformat": 4,
  "nbformat_minor": 0
}