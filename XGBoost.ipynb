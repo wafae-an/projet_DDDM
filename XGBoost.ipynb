{
  "nbformat": 4,
  "nbformat_minor": 0,
  "metadata": {
    "colab": {
      "provenance": []
    },
    "kernelspec": {
      "name": "python3",
      "display_name": "Python 3"
    },
    "language_info": {
      "name": "python"
    }
  },
  "cells": [
    {
      "cell_type": "code",
      "execution_count": null,
      "metadata": {
        "id": "_bMoCY4wFAt_"
      },
      "outputs": [],
      "source": [
        "# Imports\n",
        "\n",
        "# Data manipulation\n",
        "import pandas as pd\n",
        "import numpy as np\n",
        "from collections import Counter\n",
        "\n",
        "# Preprocessing\n",
        "from sklearn.preprocessing import LabelEncoder, label_binarize\n",
        "\n",
        "# Model selection and evaluation\n",
        "from sklearn.model_selection import train_test_split\n",
        "from sklearn.metrics import (\n",
        "    classification_report, accuracy_score, confusion_matrix,\n",
        "    f1_score, recall_score, roc_auc_score, roc_curve\n",
        ")\n",
        "\n",
        "\n",
        "# Visualization\n",
        "import matplotlib.pyplot as plt\n",
        "import seaborn as sns\n",
        "\n",
        "# Model training (XGBoost)\n",
        "import xgboost as xgb\n",
        "\n",
        "# Utility\n",
        "import time\n",
        "import joblib  # For saving/loading models\n",
        "\n",
        "\n"
      ]
    },
    {
      "cell_type": "code",
      "source": [
        "# Accès à Google Drive (pour Google Colab)\n",
        "from google.colab import drive\n",
        "drive.mount('/content/drive')"
      ],
      "metadata": {
        "colab": {
          "base_uri": "https://localhost:8080/"
        },
        "id": "noo5lIaDFE-U",
        "outputId": "ac067e66-2c21-41e3-998f-fc8d3303e57c"
      },
      "execution_count": null,
      "outputs": [
        {
          "output_type": "stream",
          "name": "stdout",
          "text": [
            "Mounted at /content/drive\n"
          ]
        }
      ]
    },
    {
      "cell_type": "code",
      "source": [
        "# Chargement des fichiers CSV depuis Google Drive\n",
        "folder_path = '/content/drive/MyDrive/data/'\n",
        "files = [\n",
        "    'Friday-WorkingHours-Afternoon-DDos.pcap_ISCX.csv',\n",
        "    'Friday-WorkingHours-Afternoon-PortScan.pcap_ISCX.csv',\n",
        "    'Friday-WorkingHours-Morning.pcap_ISCX.csv',\n",
        "    'Monday-WorkingHours.pcap_ISCX.csv',\n",
        "    'Thursday-WorkingHours-Afternoon-Infilteration.pcap_ISCX.csv',\n",
        "    'Thursday-WorkingHours-Morning-WebAttacks.pcap_ISCX.csv',\n",
        "    'Tuesday-WorkingHours.pcap_ISCX.csv',\n",
        "    'Wednesday-workingHours.pcap_ISCX.csv'\n",
        "]\n"
      ],
      "metadata": {
        "id": "A_y0dFd7FFAb"
      },
      "execution_count": null,
      "outputs": []
    },
    {
      "cell_type": "code",
      "source": [
        "# Fusion des datasets\n",
        "dfs = [pd.read_csv(folder_path + file) for file in files]\n",
        "df = pd.concat(dfs, ignore_index=True)\n",
        "print(\"Shape:\", df.shape)\n"
      ],
      "metadata": {
        "id": "WTSkKtbtbOn1",
        "colab": {
          "base_uri": "https://localhost:8080/"
        },
        "outputId": "14eb5104-ff18-4b03-9e91-17cd891ac06d"
      },
      "execution_count": null,
      "outputs": [
        {
          "output_type": "stream",
          "name": "stdout",
          "text": [
            "Shape: (2830743, 79)\n"
          ]
        }
      ]
    },
    {
      "cell_type": "code",
      "source": [
        "#  Nettoyage : suppression des doublons\n",
        "df.drop_duplicates(inplace=True)\n",
        "# Remplacement des valeurs infinies par NaN\n",
        "df.replace([np.inf, -np.inf], np.nan, inplace=True)"
      ],
      "metadata": {
        "id": "Keeq-IFyFFC4"
      },
      "execution_count": null,
      "outputs": []
    },
    {
      "cell_type": "code",
      "source": [
        "# Suppression finale des lignes encore incomplètes\n",
        "df.dropna(inplace=True)"
      ],
      "metadata": {
        "id": "TxcEEWFQFJJH"
      },
      "execution_count": null,
      "outputs": []
    },
    {
      "cell_type": "code",
      "source": [
        "# Supprimer les colonnes inutiles\n",
        "columns_to_drop = [\n",
        "                    ' Destination Port',' Fwd PSH Flags', ' Bwd PSH Flags', ' Fwd URG Flags', ' Bwd URG Flags',\n",
        "                   ' Fwd Avg Packets/Bulk', ' Fwd Avg Bulk Rate', ' Bwd Avg Bytes/Bulk',\n",
        "                   ' Bwd Avg Packets/Bulk', ' Subflow Fwd Bytes', ' Subflow Bwd Packets',\n",
        "                   ' Subflow Bwd Bytes', ' Idle Std', ' Idle Max', ' Idle Min']\n",
        "columns_to_drop_filtered = [col for col in columns_to_drop if col in df.columns]\n",
        "df.drop(columns=columns_to_drop_filtered, inplace=True)"
      ],
      "metadata": {
        "id": "4NpDO6dPFJLf"
      },
      "execution_count": null,
      "outputs": []
    },
    {
      "cell_type": "code",
      "source": [
        "# Séparation des features (X) et de la cible (y)\n",
        "X = df.drop(' Label', axis=1)\n",
        "y = df[' Label']\n"
      ],
      "metadata": {
        "id": "zpV4TF3cFJPE"
      },
      "execution_count": null,
      "outputs": []
    },
    {
      "cell_type": "markdown",
      "source": [],
      "metadata": {
        "id": "eB4vvkYlahCi"
      }
    },
    {
      "cell_type": "code",
      "source": [
        "# Encodage de la colonne de label\n",
        "le = LabelEncoder()\n",
        "y = le.fit_transform(y)"
      ],
      "metadata": {
        "id": "hXDz7MLrFQfj"
      },
      "execution_count": null,
      "outputs": []
    },
    {
      "cell_type": "code",
      "source": [
        "# Diviser les données en ensembles d'entraînement et de test\n",
        "X_train, X_test, y_train, y_test = train_test_split(X, y, stratify=y, test_size=0.2, random_state=42)"
      ],
      "metadata": {
        "id": "p3wZUl_0FSkk"
      },
      "execution_count": null,
      "outputs": []
    },
    {
      "cell_type": "code",
      "source": [
        "# Gestion du déséquilibre avec des poids\n",
        "class_counts = Counter(y_train)\n",
        "majority_class = max(class_counts, key=class_counts.get)\n",
        "weights = {cls: class_counts[majority_class]/count for cls, count in class_counts.items()}\n",
        "sample_weights = np.array([weights[label] for label in y_train])\n"
      ],
      "metadata": {
        "id": "9xiWdFjIFUEH"
      },
      "execution_count": null,
      "outputs": []
    },
    {
      "cell_type": "code",
      "source": [
        "# Paramètres XGBoost optimisés\n",
        "params = {\n",
        "    'objective': 'multi:softprob',\n",
        "    'num_class': len(np.unique(y)),\n",
        "    'eval_metric': 'mlogloss',\n",
        "    'learning_rate': 0.1,\n",
        "    'max_depth': 6,\n",
        "    'subsample': 0.8,\n",
        "    'colsample_bytree': 0.8,\n",
        "    'tree_method': 'hist',\n",
        "    'verbosity': 1\n",
        "}\n"
      ],
      "metadata": {
        "id": "_LkAFij4FUGp"
      },
      "execution_count": null,
      "outputs": []
    },
    {
      "cell_type": "code",
      "source": [
        "# Préparation des DMatrix\n",
        "dtrain = xgb.DMatrix(X_train, label=y_train, weight=sample_weights)\n",
        "dtest = xgb.DMatrix(X_test, label=y_test)"
      ],
      "metadata": {
        "id": "AJStlSIfdlGY"
      },
      "execution_count": null,
      "outputs": []
    },
    {
      "cell_type": "code",
      "source": [
        "# Entraînement avec mesure du temps\n",
        "start_train = time.time()\n",
        "model = xgb.train(params, dtrain, num_boost_round=100)\n",
        "end_train = time.time()\n",
        "training_time = end_train - start_train\n",
        "print(\"Temps d'entraînement (s) :\", training_time)"
      ],
      "metadata": {
        "id": "7K7JJRmqFUJe",
        "colab": {
          "base_uri": "https://localhost:8080/"
        },
        "outputId": "da387f12-1003-4cd1-b3fc-dd385855bf2f"
      },
      "execution_count": null,
      "outputs": [
        {
          "output_type": "stream",
          "name": "stdout",
          "text": [
            "Temps d'entraînement (s) : 739.6274139881134\n"
          ]
        }
      ]
    },
    {
      "cell_type": "code",
      "source": [
        "# Prédiction avec mesure du temps\n",
        "start_pred = time.time()\n",
        "y_pred_probs = model.predict(dtest)\n",
        "end_pred = time.time()\n",
        "prediction_time = end_pred - start_pred\n",
        "print(\"Temps de prédiction (s) :\", prediction_time)"
      ],
      "metadata": {
        "id": "Lri1tP_nFYJq",
        "colab": {
          "base_uri": "https://localhost:8080/"
        },
        "outputId": "b9d38f28-5b7f-4ded-8485-e3a824168924"
      },
      "execution_count": null,
      "outputs": [
        {
          "output_type": "stream",
          "name": "stdout",
          "text": [
            "Temps de prédiction (s) : 0.11753296852111816\n"
          ]
        }
      ]
    },
    {
      "cell_type": "code",
      "source": [
        "y_pred = np.argmax(y_pred_probs, axis=1)"
      ],
      "metadata": {
        "id": "2vxUXyJckrIP"
      },
      "execution_count": null,
      "outputs": []
    },
    {
      "cell_type": "code",
      "source": [
        "# Accuracy\n",
        "accuracy = accuracy_score(y_test, y_pred)\n",
        "print(\"Accuracy:\", accuracy)"
      ],
      "metadata": {
        "colab": {
          "base_uri": "https://localhost:8080/"
        },
        "id": "oV_8LIYgJemc",
        "outputId": "abad064c-a98f-4039-e4f7-7a797e4c59ff"
      },
      "execution_count": null,
      "outputs": [
        {
          "output_type": "stream",
          "name": "stdout",
          "text": [
            "Accuracy: 0.9975087273881308\n"
          ]
        }
      ]
    },
    {
      "cell_type": "code",
      "source": [
        "# F1 Scores\n",
        "f1_macro = f1_score(y_test, y_pred, average='macro')\n",
        "f1_weighted = f1_score(y_test, y_pred, average='weighted')\n",
        "print(\"F1 Score (macro):\", f1_macro)\n",
        "print(\"F1 Score (weighted):\", f1_weighted)"
      ],
      "metadata": {
        "colab": {
          "base_uri": "https://localhost:8080/"
        },
        "id": "bhsqKeYfJep-",
        "outputId": "02edbb98-8b23-4472-9f66-a0000bdca8c3"
      },
      "execution_count": null,
      "outputs": [
        {
          "output_type": "stream",
          "name": "stdout",
          "text": [
            "F1 Score (macro): 0.8642253271001802\n",
            "F1 Score (weighted): 0.9977389199171649\n"
          ]
        }
      ]
    },
    {
      "cell_type": "code",
      "source": [
        "# Recall (sensibilité)\n",
        "recall_macro = recall_score(y_test, y_pred, average='macro')\n",
        "recall_weighted = recall_score(y_test, y_pred, average='weighted')\n",
        "print(\"Recall (macro):\", recall_macro)\n",
        "print(\"Recall (weighted):\", recall_weighted)\n"
      ],
      "metadata": {
        "colab": {
          "base_uri": "https://localhost:8080/"
        },
        "id": "K1DBRYasJj17",
        "outputId": "964c4996-9952-4a89-f5e7-33a044aed661"
      },
      "execution_count": null,
      "outputs": [
        {
          "output_type": "stream",
          "name": "stdout",
          "text": [
            "Recall (macro): 0.9513384779249685\n",
            "Recall (weighted): 0.9975087273881308\n"
          ]
        }
      ]
    },
    {
      "cell_type": "code",
      "source": [
        "#  Rapport de classification complet\n",
        "print(\"\\n📋 Classification Report:\\n\", classification_report(y_test, y_pred))"
      ],
      "metadata": {
        "colab": {
          "base_uri": "https://localhost:8080/"
        },
        "id": "sU_edf4hJlNG",
        "outputId": "7fdab6bd-116e-475b-8ca7-38803f976297"
      },
      "execution_count": null,
      "outputs": [
        {
          "output_type": "stream",
          "name": "stdout",
          "text": [
            "\n",
            "📋 Classification Report:\n",
            "               precision    recall  f1-score   support\n",
            "\n",
            "           0       1.00      1.00      1.00    419012\n",
            "           1       0.44      0.99      0.61       390\n",
            "           2       1.00      1.00      1.00     25603\n",
            "           3       0.98      1.00      0.99      2057\n",
            "           4       1.00      1.00      1.00     34569\n",
            "           5       0.90      1.00      0.94      1046\n",
            "           6       0.98      0.99      0.98      1077\n",
            "           7       1.00      1.00      1.00      1186\n",
            "           8       1.00      1.00      1.00         2\n",
            "           9       0.64      1.00      0.78         7\n",
            "          10       0.99      1.00      0.99     18139\n",
            "          11       1.00      1.00      1.00       644\n",
            "          12       0.76      0.70      0.73       294\n",
            "          13       0.31      1.00      0.47         4\n",
            "          14       0.38      0.59      0.47       130\n",
            "\n",
            "    accuracy                           1.00    504160\n",
            "   macro avg       0.82      0.95      0.86    504160\n",
            "weighted avg       1.00      1.00      1.00    504160\n",
            "\n"
          ]
        }
      ]
    },
    {
      "cell_type": "code",
      "source": [
        "# Matrice de confusion\n",
        "cm = confusion_matrix(y_test, y_pred)\n",
        "plt.figure(figsize=(10, 6))\n",
        "sns.heatmap(cm, annot=True, fmt='d', cmap='Blues')\n",
        "plt.title(\"Matrice de confusion\")\n",
        "plt.xlabel(\"Prédit\")\n",
        "plt.ylabel(\"Réel\")\n",
        "plt.show()\n"
      ],
      "metadata": {
        "colab": {
          "base_uri": "https://localhost:8080/",
          "height": 482
        },
        "id": "8R17jrYMK5In",
        "outputId": "9c668db1-7b6c-40f3-bee4-9c2c07ecd15a"
      },
      "execution_count": null,
      "outputs": [
        {
          "output_type": "display_data",
          "data": {
            "text/plain": [
              "<Figure size 1000x600 with 2 Axes>"
            ],
            "image/png": "[encoded data removed]"
          },
          "metadata": {}
        }
      ]
    },
    {
      "cell_type": "code",
      "source": [
        "\n",
        "# Binariser les labels pour le calcul AUC-ROC\n",
        "y_test_bin = label_binarize(y_test, classes=np.unique(y))\n",
        "# y_pred_probs est déjà calculé : model.predict(dtest)\n",
        "\n",
        "# Calcul du score AUC-ROC\n",
        "auc_score = roc_auc_score(y_test_bin, y_pred, multi_class='ovr')\n",
        "print(\"AUC-ROC Score (multi-class):\", auc_score)"
      ],
      "metadata": {
        "colab": {
          "base_uri": "https://localhost:8080/"
        },
        "id": "Gejf2s63NgNN",
        "outputId": "03d075b8-72e4-4aa5-882f-02b01f450d21"
      },
      "execution_count": null,
      "outputs": [
        {
          "output_type": "stream",
          "name": "stdout",
          "text": [
            "AUC-ROC Score (multi-class): 0.9998855143367767\n"
          ]
        }
      ]
    },
    {
      "cell_type": "code",
      "source": [
        "# Sauvegarder le modèle\n",
        "joblib.dump(model, 'random_forest_model.pkl')\n",
        "print(\" Modèle sauvegardé sous le nom : random_forest_model.pkl\")"
      ],
      "metadata": {
        "id": "Z58wS3HKdYNF"
      },
      "execution_count": null,
      "outputs": []
    }
  ]
}