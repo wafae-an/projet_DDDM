{
  "nbformat": 4,
  "nbformat_minor": 0,
  "metadata": {
    "colab": {
      "provenance": []
    },
    "kernelspec": {
      "name": "python3",
      "display_name": "Python 3"
    },
    "language_info": {
      "name": "python"
    }
  },
  "cells": [
    {
      "cell_type": "code",
      "execution_count": null,
      "metadata": {
        "id": "5_gyrbXl7z1E"
      },
      "outputs": [],
      "source": [
        "# Imports\n",
        "\n",
        "# Data manipulation and analysis\n",
        "import pandas as pd\n",
        "import numpy as np\n",
        "\n",
        "# LightGBM for model training\n",
        "import lightgbm as lgb\n",
        "from lightgbm import LGBMClassifier\n",
        "from lightgbm import early_stopping, log_evaluation\n",
        "\n",
        "# Model evaluation and metrics\n",
        "from sklearn.model_selection import train_test_split\n",
        "from sklearn.metrics import (\n",
        "    classification_report, accuracy_score, confusion_matrix,\n",
        "    f1_score, recall_score, roc_auc_score, roc_curve\n",
        ")\n",
        "\n",
        "# Resampling techniques for imbalanced data\n",
        "from imblearn.under_sampling import RandomUnderSampler\n",
        "from imblearn.over_sampling import SMOTE\n",
        "\n",
        "# Visualization libraries\n",
        "import matplotlib.pyplot as plt\n",
        "import seaborn as sns\n",
        "\n",
        "# Preprocessing techniques\n",
        "from sklearn.preprocessing import LabelEncoder, label_binarize\n",
        "from sklearn.feature_selection import VarianceThreshold\n",
        "\n",
        "# Time tracking\n",
        "import time\n",
        "\n",
        "# Pour sauvegarder le modèle\n",
        "import joblib\n",
        "\n"
      ]
    },
    {
      "cell_type": "code",
      "source": [
        "# Accès à Google Drive (pour Google Colab)\n",
        "from google.colab import drive\n",
        "drive.mount('/content/drive')"
      ],
      "metadata": {
        "colab": {
          "base_uri": "https://localhost:8080/"
        },
        "id": "pR57NPji76zq",
        "outputId": "bbc4303f-9f81-49d3-beac-19b5be90bda8"
      },
      "execution_count": null,
      "outputs": [
        {
          "output_type": "stream",
          "name": "stdout",
          "text": [
            "Mounted at /content/drive\n"
          ]
        }
      ]
    },
    {
      "cell_type": "code",
      "source": [
        "# Chargement des fichiers CSV depuis Google Drive\n",
        "folder_path = '/content/drive/MyDrive/data/'\n",
        "files = [\n",
        "    'Friday-WorkingHours-Afternoon-DDos.pcap_ISCX.csv',\n",
        "    'Friday-WorkingHours-Afternoon-PortScan.pcap_ISCX.csv',\n",
        "    'Friday-WorkingHours-Morning.pcap_ISCX.csv',\n",
        "    'Monday-WorkingHours.pcap_ISCX.csv',\n",
        "    'Thursday-WorkingHours-Afternoon-Infilteration.pcap_ISCX.csv',\n",
        "    'Thursday-WorkingHours-Morning-WebAttacks.pcap_ISCX.csv',\n",
        "    'Tuesday-WorkingHours.pcap_ISCX.csv',\n",
        "    'Wednesday-workingHours.pcap_ISCX.csv'\n",
        "]\n"
      ],
      "metadata": {
        "id": "o74g7ssn78p3"
      },
      "execution_count": null,
      "outputs": []
    },
    {
      "cell_type": "code",
      "source": [
        "# Fusion des datasets\n",
        "dfs = [pd.read_csv(folder_path + file) for file in files]\n",
        "df = pd.concat(dfs, ignore_index=True)\n",
        "print(\"Shape:\", df.shape)\n"
      ],
      "metadata": {
        "id": "UWsm5nfMZAtj",
        "colab": {
          "base_uri": "https://localhost:8080/"
        },
        "outputId": "c5e6798a-bff5-4f6c-ff6d-daea452d34b8"
      },
      "execution_count": null,
      "outputs": [
        {
          "output_type": "stream",
          "name": "stdout",
          "text": [
            "Shape: (2830743, 79)\n"
          ]
        }
      ]
    },
    {
      "cell_type": "code",
      "source": [
        "#  Nettoyage : suppression des doublons\n",
        "df.drop_duplicates(inplace=True)\n",
        "# Remplacement des valeurs infinies par NaN\n",
        "df.replace([np.inf, -np.inf], np.nan, inplace=True)"
      ],
      "metadata": {
        "id": "WNRMFHri7-kV"
      },
      "execution_count": null,
      "outputs": []
    },
    {
      "cell_type": "code",
      "source": [
        "# Remplir les valeurs manquantes\n",
        "numeric_columns = df.select_dtypes(include=[np.number]).columns\n",
        "df[numeric_columns] = df[numeric_columns].fillna(df[numeric_columns].mean())\n",
        "\n",
        "non_numeric_columns = df.select_dtypes(exclude=[np.number]).columns\n",
        "for col in non_numeric_columns:\n",
        "    df[col] = df[col].fillna(df[col].mode()[0])\n",
        "\n",
        "# Suppression finale des lignes encore incomplètes\n",
        "df.dropna(inplace=True)"
      ],
      "metadata": {
        "id": "2ZJMk8iA8Ffv"
      },
      "execution_count": null,
      "outputs": []
    },
    {
      "cell_type": "code",
      "source": [
        "# Supprimer les colonnes inutiles\n",
        "columns_to_drop = [\n",
        "                    ' Destination Port',' Fwd PSH Flags', ' Bwd PSH Flags', ' Fwd URG Flags', ' Bwd URG Flags',\n",
        "                   ' Fwd Avg Packets/Bulk', ' Fwd Avg Bulk Rate', ' Bwd Avg Bytes/Bulk',\n",
        "                   ' Bwd Avg Packets/Bulk', ' Subflow Fwd Bytes', ' Subflow Bwd Packets',\n",
        "                   ' Subflow Bwd Bytes', ' Idle Std', ' Idle Max', ' Idle Min']\n",
        "columns_to_drop_filtered = [col for col in columns_to_drop if col in df.columns]\n",
        "df.drop(columns=columns_to_drop_filtered, inplace=True)"
      ],
      "metadata": {
        "id": "OeXg4rz-8J5t"
      },
      "execution_count": null,
      "outputs": []
    },
    {
      "cell_type": "code",
      "source": [
        "# Encodage de la colonne de label\n",
        "le = LabelEncoder()\n",
        "df[' Label'] = le.fit_transform(df[' Label'])"
      ],
      "metadata": {
        "id": "Xld4FOun8L6O"
      },
      "execution_count": null,
      "outputs": []
    },
    {
      "cell_type": "code",
      "source": [
        "# Séparation des features (X) et de la cible (y)\n",
        "X = df.drop(' Label', axis=1)\n",
        "y = df[' Label']\n"
      ],
      "metadata": {
        "id": "ikJNLrF48NsS"
      },
      "execution_count": null,
      "outputs": []
    },
    {
      "cell_type": "code",
      "source": [
        "# Sélection des caractéristiques avec faible variance\n",
        "selector = VarianceThreshold(threshold=0.01)\n",
        "X = selector.fit_transform(X)"
      ],
      "metadata": {
        "id": "14lzc_mO8Paf"
      },
      "execution_count": null,
      "outputs": []
    },
    {
      "cell_type": "code",
      "source": [
        "# Diviser les données en ensembles d'entraînement et de test\n",
        "X_train, X_test, y_train, y_test = train_test_split(X, y, test_size=0.2, stratify=y, random_state=42)"
      ],
      "metadata": {
        "id": "iRgYH_fu8RUo"
      },
      "execution_count": null,
      "outputs": []
    },
    {
      "cell_type": "code",
      "source": [
        "# Appliquer le sous-échantillonnage et l'over-sampling\n",
        "rus = RandomUnderSampler(sampling_strategy={0: 30000}, random_state=42)\n",
        "X_under, y_under = rus.fit_resample(X_train, y_train)\n",
        "sm = SMOTE(random_state=42)\n",
        "X_final, y_final = sm.fit_resample(X_under, y_under)\n"
      ],
      "metadata": {
        "id": "JHO9xAea8TT4"
      },
      "execution_count": null,
      "outputs": []
    },
    {
      "cell_type": "code",
      "source": [
        "#  Initialisation du modèle LightGBM\n",
        "model = LGBMClassifier(\n",
        "    objective='multiclass',\n",
        "    num_class=len(np.unique(y_final)),\n",
        "    random_state=42,\n",
        "    is_unbalanced=True  # Activer l'équilibrage automatique des classes\n",
        ")\n"
      ],
      "metadata": {
        "id": "dgXyH1bI8Wwc"
      },
      "execution_count": null,
      "outputs": []
    },
    {
      "cell_type": "code",
      "source": [
        "# Mesure du temps d'entraînement\n",
        "start_train = time.time()\n",
        "\n",
        "model.fit(\n",
        "    X_final, y_final,\n",
        "    eval_set=[(X_test, y_test)],\n",
        "    eval_metric='multi_logloss',\n",
        "    callbacks=[\n",
        "        early_stopping(stopping_rounds=50),\n",
        "        log_evaluation(period=50)\n",
        "    ]\n",
        ")\n",
        "end_train = time.time()\n",
        "training_time = end_train - start_train\n",
        "print(\"Temps d'entraînement (s) :\", training_time)"
      ],
      "metadata": {
        "colab": {
          "base_uri": "https://localhost:8080/"
        },
        "id": "hUeowQ7N8W4y",
        "outputId": "db70bec6-c235-4cdf-8475-aaaca4006da9"
      },
      "execution_count": null,
      "outputs": [
        {
          "output_type": "stream",
          "name": "stderr",
          "text": [
            "/usr/local/lib/python3.11/dist-packages/sklearn/utils/deprecation.py:151: FutureWarning: 'force_all_finite' was renamed to 'ensure_all_finite' in 1.6 and will be removed in 1.8.\n",
            "  warnings.warn(\n"
          ]
        },
        {
          "output_type": "stream",
          "name": "stdout",
          "text": [
            "[LightGBM] [Warning] Unknown parameter: is_unbalanced\n",
            "[LightGBM] [Warning] Unknown parameter: is_unbalanced\n",
            "[LightGBM] [Info] Auto-choosing row-wise multi-threading, the overhead of testing was 0.680017 seconds.\n",
            "You can set `force_row_wise=true` to remove the overhead.\n",
            "And if memory is not enough, you can set `force_col_wise=true`.\n",
            "[LightGBM] [Info] Total Bins 14816\n",
            "[LightGBM] [Info] Number of data points in the train set: 2074185, number of used features: 59\n",
            "[LightGBM] [Warning] Unknown parameter: is_unbalanced\n",
            "[LightGBM] [Info] Start training from score -2.708050\n",
            "[LightGBM] [Info] Start training from score -2.708050\n",
            "[LightGBM] [Info] Start training from score -2.708050\n",
            "[LightGBM] [Info] Start training from score -2.708050\n",
            "[LightGBM] [Info] Start training from score -2.708050\n",
            "[LightGBM] [Info] Start training from score -2.708050\n",
            "[LightGBM] [Info] Start training from score -2.708050\n",
            "[LightGBM] [Info] Start training from score -2.708050\n",
            "[LightGBM] [Info] Start training from score -2.708050\n",
            "[LightGBM] [Info] Start training from score -2.708050\n",
            "[LightGBM] [Info] Start training from score -2.708050\n",
            "[LightGBM] [Info] Start training from score -2.708050\n",
            "[LightGBM] [Info] Start training from score -2.708050\n",
            "[LightGBM] [Info] Start training from score -2.708050\n",
            "[LightGBM] [Info] Start training from score -2.708050\n",
            "[LightGBM] [Warning] No further splits with positive gain, best gain: -inf\n",
            "Training until validation scores don't improve for 50 rounds\n",
            "[50]\tvalid_0's multi_logloss: 0.0304016\n",
            "[100]\tvalid_0's multi_logloss: 19.2336\n",
            "Did not meet early stopping. Best iteration is:\n",
            "[58]\tvalid_0's multi_logloss: 0.0286243\n",
            "Temps d'entraînement (s) : 640.9502274990082\n"
          ]
        }
      ]
    },
    {
      "cell_type": "code",
      "source": [
        "# Mesure du temps de prédiction\n",
        "start_pred = time.time()\n",
        "y_pred = model.predict(X_test)\n",
        "end_pred = time.time()\n",
        "prediction_time = end_pred - start_pred\n",
        "print(\"Temps de prédiction (s) :\", prediction_time)"
      ],
      "metadata": {
        "id": "oybDoMHVSMWu",
        "colab": {
          "base_uri": "https://localhost:8080/"
        },
        "outputId": "59136cc0-bea7-484a-c4d7-c8c661e653aa"
      },
      "execution_count": null,
      "outputs": [
        {
          "output_type": "stream",
          "name": "stderr",
          "text": [
            "/usr/local/lib/python3.11/dist-packages/sklearn/utils/deprecation.py:151: FutureWarning: 'force_all_finite' was renamed to 'ensure_all_finite' in 1.6 and will be removed in 1.8.\n",
            "  warnings.warn(\n"
          ]
        },
        {
          "output_type": "stream",
          "name": "stdout",
          "text": [
            "[LightGBM] [Warning] Unknown parameter: is_unbalanced\n",
            "Temps de prédiction (s) : 36.94361424446106\n"
          ]
        }
      ]
    },
    {
      "cell_type": "code",
      "source": [
        "# Accuracy\n",
        "accuracy = accuracy_score(y_test, y_pred)\n",
        "print(\"Accuracy:\", accuracy)\n"
      ],
      "metadata": {
        "colab": {
          "base_uri": "https://localhost:8080/"
        },
        "id": "GsEchIPs8buc",
        "outputId": "621fe594-5cc5-49ab-e038-627e647968e2"
      },
      "execution_count": null,
      "outputs": [
        {
          "output_type": "stream",
          "name": "stdout",
          "text": [
            "Accuracy: 0.9931552332830499\n"
          ]
        }
      ]
    },
    {
      "cell_type": "code",
      "source": [
        "# F1 Scores\n",
        "f1_macro = f1_score(y_test, y_pred, average='macro')\n",
        "f1_weighted = f1_score(y_test, y_pred, average='weighted')\n",
        "print(\"F1 Score (macro):\", f1_macro)\n",
        "print(\"F1 Score (weighted):\", f1_weighted)"
      ],
      "metadata": {
        "colab": {
          "base_uri": "https://localhost:8080/"
        },
        "id": "dxAALcIn6RRv",
        "outputId": "08512165-edb4-4fb9-d2b9-20d1dc67df18"
      },
      "execution_count": null,
      "outputs": [
        {
          "output_type": "stream",
          "name": "stdout",
          "text": [
            "F1 Score (macro): 0.7718964470740487\n",
            "F1 Score (weighted): 0.9947020278889234\n"
          ]
        }
      ]
    },
    {
      "cell_type": "code",
      "source": [
        "# Recall (sensibilité)\n",
        "recall_macro = recall_score(y_test, y_pred, average='macro')\n",
        "recall_weighted = recall_score(y_test, y_pred, average='weighted')\n",
        "print(\"Recall (macro):\", recall_macro)\n",
        "print(\"Recall (weighted):\", recall_weighted)\n"
      ],
      "metadata": {
        "colab": {
          "base_uri": "https://localhost:8080/"
        },
        "id": "CJe304-K6UcX",
        "outputId": "4a5ffc7b-5740-4b55-b413-0fc0bca6341e"
      },
      "execution_count": null,
      "outputs": [
        {
          "output_type": "stream",
          "name": "stdout",
          "text": [
            "Recall (macro): 0.9380943748302358\n",
            "Recall (weighted): 0.9931552332830499\n"
          ]
        }
      ]
    },
    {
      "cell_type": "code",
      "source": [
        "#  Rapport de classification complet\n",
        "print(\"\\n📋 Classification Report:\\n\", classification_report(y_test, y_pred))"
      ],
      "metadata": {
        "colab": {
          "base_uri": "https://localhost:8080/"
        },
        "id": "j0HK7qoH6WlR",
        "outputId": "76682d8a-fbf4-4f88-fe4a-774b1d338a32"
      },
      "execution_count": null,
      "outputs": [
        {
          "output_type": "stream",
          "name": "stdout",
          "text": [
            "\n",
            "📋 Classification Report:\n",
            "               precision    recall  f1-score   support\n",
            "\n",
            "           0       1.00      0.99      1.00    419297\n",
            "           1       0.19      1.00      0.32       391\n",
            "           2       1.00      1.00      1.00     25603\n",
            "           3       0.96      1.00      0.98      2057\n",
            "           4       0.99      1.00      1.00     34570\n",
            "           5       0.84      0.99      0.91      1046\n",
            "           6       0.88      1.00      0.93      1077\n",
            "           7       0.99      1.00      0.99      1187\n",
            "           8       0.67      1.00      0.80         2\n",
            "           9       0.07      0.86      0.13         7\n",
            "          10       0.99      1.00      0.99     18164\n",
            "          11       0.98      0.99      0.98       644\n",
            "          12       0.29      0.63      0.40       294\n",
            "          13       0.67      1.00      0.80         4\n",
            "          14       0.24      0.62      0.35       130\n",
            "\n",
            "    accuracy                           0.99    504473\n",
            "   macro avg       0.72      0.94      0.77    504473\n",
            "weighted avg       1.00      0.99      0.99    504473\n",
            "\n"
          ]
        }
      ]
    },
    {
      "cell_type": "code",
      "source": [
        "# Matrice de confusion\n",
        "cm = confusion_matrix(y_test, y_pred)\n",
        "plt.figure(figsize=(10, 6))\n",
        "sns.heatmap(cm, annot=True, fmt='d', cmap='Blues')\n",
        "plt.title(\"Matrice de confusion\")\n",
        "plt.xlabel(\"Prédit\")\n",
        "plt.ylabel(\"Réel\")\n",
        "plt.show()"
      ],
      "metadata": {
        "colab": {
          "base_uri": "https://localhost:8080/",
          "height": 564
        },
        "id": "D34hP-Yz6apf",
        "outputId": "4741f313-d825-4c6b-b964-b862ecaa3de1"
      },
      "execution_count": null,
      "outputs": [
        {
          "output_type": "display_data",
          "data": {
            "text/plain": [
              "<Figure size 1000x600 with 2 Axes>"
            ],
            "image/png": "[encoded data removed]"
          },
          "metadata": {}
        }
      ]
    },
    {
      "cell_type": "code",
      "source": [
        "# AUC-ROC Score (multi-class)\n",
        "y_test_bin = label_binarize(y_test, classes=np.unique(y))\n",
        "y_pred_proba = model.predict_proba(X_test)\n",
        "auc_score = roc_auc_score(y_test_bin, y_pred_proba, multi_class='ovr')\n",
        "print(\"AUC-ROC Score (multi-class):\", auc_score)"
      ],
      "metadata": {
        "colab": {
          "base_uri": "https://localhost:8080/"
        },
        "id": "_aP-LfOV6eCW",
        "outputId": "0171af0e-9237-4e75-a7b3-18e4f5c8fedd"
      },
      "execution_count": null,
      "outputs": [
        {
          "output_type": "stream",
          "name": "stderr",
          "text": [
            "/usr/local/lib/python3.11/dist-packages/sklearn/utils/deprecation.py:151: FutureWarning: 'force_all_finite' was renamed to 'ensure_all_finite' in 1.6 and will be removed in 1.8.\n",
            "  warnings.warn(\n"
          ]
        },
        {
          "output_type": "stream",
          "name": "stdout",
          "text": [
            "[LightGBM] [Warning] Unknown parameter: is_unbalanced\n",
            "AUC-ROC Score (multi-class): 0.9988417165566068\n"
          ]
        }
      ]
    },
    {
      "cell_type": "code",
      "source": [
        "# Sauvegarder le modèle\n",
        "joblib.dump(model, 'lightGBM_model.pkl')\n",
        "print(\" Modèle sauvegardé sous le nom : lightGBM_model.pkl\")"
      ],
      "metadata": {
        "id": "-vHCATfjYN6p",
        "colab": {
          "base_uri": "https://localhost:8080/"
        },
        "outputId": "dd2862b2-9207-4369-b5bb-d88ebdc0acd0"
      },
      "execution_count": null,
      "outputs": [
        {
          "output_type": "stream",
          "name": "stdout",
          "text": [
            " Modèle sauvegardé sous le nom : lightGBM_model.pkl\n"
          ]
        }
      ]
    }
  ]
}